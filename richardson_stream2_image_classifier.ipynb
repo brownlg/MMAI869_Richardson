{
 "nbformat": 4,
 "nbformat_minor": 2,
 "metadata": {
  "language_info": {
   "name": "python",
   "codemirror_mode": {
    "name": "ipython",
    "version": 3
   },
   "version": "3.7.6-final"
  },
  "orig_nbformat": 2,
  "file_extension": ".py",
  "mimetype": "text/x-python",
  "name": "python",
  "npconvert_exporter": "python",
  "pygments_lexer": "ipython3",
  "version": 3,
  "kernelspec": {
   "name": "python37664bit29afa5c211bc4a22be52b81049632084",
   "display_name": "Python 3.7.6 64-bit"
  }
 },
 "cells": [
  {
   "cell_type": "code",
   "execution_count": 2,
   "metadata": {},
   "outputs": [
    {
     "name": "stderr",
     "output_type": "stream",
     "text": "Using TensorFlow backend.\n4.1.2\n"
    }
   ],
   "source": [
    "import pandas as pd\n",
    "import numpy as np\n",
    "import os\n",
    "import keras\n",
    "import matplotlib.pyplot as plt\n",
    "from keras.layers import Dense,GlobalAveragePooling2D\n",
    "from keras.applications import MobileNet #ImageNet's model\n",
    "from keras.preprocessing import image\n",
    "from keras.applications.mobilenet import preprocess_input\n",
    "from keras.preprocessing.image import ImageDataGenerator\n",
    "from keras.models import Model\n",
    "from keras.optimizers import Adam\n",
    "\n",
    "\n",
    "# first attempt at an image classifier\n",
    "from sklearn import datasets\n",
    "import tensorflow as tf\n",
    "import numpy as npa\n",
    "import pandas as pd\n",
    "\n",
    "#get paths for files\n",
    "import richardson_path as my_paths\n",
    "import richardson_file_handlers as file_handler\n",
    "import richardson_image_handlers as image_handler\n",
    "from Richardson_Logger import r_logger\n",
    "\n",
    "from keras import backend as K\n",
    "#print(K.tensorflow_backend._get_available_gpus())\n",
    "import matplotlib.pyplot as plt"
   ]
  },
  {
   "cell_type": "code",
   "execution_count": 3,
   "metadata": {},
   "outputs": [],
   "source": [
    "#dimensions of input image\n",
    "WINDOW_X = 128\n",
    "WINDOW_Y = 128\n",
    "\n",
    "max_images = 1000"
   ]
  },
  {
   "cell_type": "code",
   "execution_count": 4,
   "metadata": {},
   "outputs": [
    {
     "name": "stdout",
     "output_type": "stream",
     "text": "Loading dictionary for y_train...\nLoading images for train...\nLoading images for test...\n"
    }
   ],
   "source": [
    "print(\"Loading dictionary for y_train...\")\n",
    "my_logger = r_logger.R_logger(my_paths.INFO_PATH + '\\\\' + \"data.csv\")\n",
    "my_y_values = my_logger.load_dictionary()\n",
    "\n",
    "print(\"Loading images for train...\")\n",
    "x_train, x_train_files = file_handler.load_images_for_keras(my_paths.TRAIN_PATH, \"png\", max_images, WINDOW_X, WINDOW_Y, num_channels=3)\n",
    "x_train = x_train / 255\n",
    "\n",
    "print(\"Loading images for test...\")\n",
    "x_test, x_test_files = file_handler.load_images_for_keras(my_paths.VALIDATION_PATH, \"png\",max_images, WINDOW_X, WINDOW_Y, num_channels=3)\n",
    "x_test = x_test / 255"
   ]
  },
  {
   "cell_type": "code",
   "execution_count": 5,
   "metadata": {},
   "outputs": [
    {
     "name": "stdout",
     "output_type": "stream",
     "text": "x_train shape: (375, 128, 128, 3)\nNumber of images in x_train 375\nNumber of images in x_test 83\n"
    }
   ],
   "source": [
    "print('x_train shape:', x_train.shape)\n",
    "print('Number of images in x_train', x_train.shape[0])\n",
    "print('Number of images in x_test', x_test.shape[0])"
   ]
  },
  {
   "cell_type": "code",
   "execution_count": 6,
   "metadata": {},
   "outputs": [
    {
     "name": "stdout",
     "output_type": "stream",
     "text": "Get y values...\n"
    }
   ],
   "source": [
    "print(\"Get y values...\")\n",
    "y_train = image_handler.get_y_value(x_train_files, my_y_values, my_paths.human_labels)\n",
    "y_test = image_handler.get_y_value(x_test_files, my_y_values, my_paths.human_labels)"
   ]
  },
  {
   "cell_type": "markdown",
   "execution_count": null,
   "metadata": {},
   "outputs": [],
   "source": [
    "## Transfer Learning"
   ]
  },
  {
   "cell_type": "markdown",
   "execution_count": null,
   "metadata": {},
   "outputs": [],
   "source": [
    "`input_shape` is required to be squared and must have any of these sizes: [128, 160, 192, 224]\n",
    "We need to reshape the images.\n",
    "https://towardsdatascience.com/keras-transfer-learning-for-beginners-6c9b8b7143e\n",
    "\n"
   ]
  },
  {
   "cell_type": "code",
   "execution_count": 7,
   "metadata": {},
   "outputs": [],
   "source": [
    "input_shape = (WINDOW_Y, WINDOW_X, 3)"
   ]
  },
  {
   "cell_type": "code",
   "execution_count": 8,
   "metadata": {},
   "outputs": [],
   "source": [
    "#Import the MobileNet model with Imagenet's weights and without the output layer\n",
    "\n",
    "base_model=MobileNet(weights='imagenet',include_top=False, input_shape= input_shape) "
   ]
  },
  {
   "cell_type": "code",
   "execution_count": 9,
   "metadata": {},
   "outputs": [],
   "source": [
    "x=base_model.output"
   ]
  },
  {
   "cell_type": "code",
   "execution_count": 11,
   "metadata": {},
   "outputs": [],
   "source": [
    "#Include a few dense layers and an output layer with softmax and two outputs (human head or no human head)\n",
    "\n",
    "x=GlobalAveragePooling2D()(x)\n",
    "x=Dense(1024,activation='relu')(x) \n",
    "x=Dense(1024,activation='relu')(x)\n",
    "preds=Dense(2,activation='softmax')(x) \n",
    "\n"
   ]
  },
  {
   "cell_type": "code",
   "execution_count": 12,
   "metadata": {},
   "outputs": [],
   "source": [
    "model=Model(inputs=base_model.input,outputs=preds)"
   ]
  },
  {
   "cell_type": "code",
   "execution_count": 13,
   "metadata": {},
   "outputs": [
    {
     "name": "stdout",
     "output_type": "stream",
     "text": "Model: \"model_1\"\n_________________________________________________________________\nLayer (type)                 Output Shape              Param #   \n=================================================================\ninput_1 (InputLayer)         (None, 128, 128, 3)       0         \n_________________________________________________________________\nconv1_pad (ZeroPadding2D)    (None, 129, 129, 3)       0         \n_________________________________________________________________\nconv1 (Conv2D)               (None, 64, 64, 32)        864       \n_________________________________________________________________\nconv1_bn (BatchNormalization (None, 64, 64, 32)        128       \n_________________________________________________________________\nconv1_relu (ReLU)            (None, 64, 64, 32)        0         \n_________________________________________________________________\nconv_dw_1 (DepthwiseConv2D)  (None, 64, 64, 32)        288       \n_________________________________________________________________\nconv_dw_1_bn (BatchNormaliza (None, 64, 64, 32)        128       \n_________________________________________________________________\nconv_dw_1_relu (ReLU)        (None, 64, 64, 32)        0         \n_________________________________________________________________\nconv_pw_1 (Conv2D)           (None, 64, 64, 64)        2048      \n_________________________________________________________________\nconv_pw_1_bn (BatchNormaliza (None, 64, 64, 64)        256       \n_________________________________________________________________\nconv_pw_1_relu (ReLU)        (None, 64, 64, 64)        0         \n_________________________________________________________________\nconv_pad_2 (ZeroPadding2D)   (None, 65, 65, 64)        0         \n_________________________________________________________________\nconv_dw_2 (DepthwiseConv2D)  (None, 32, 32, 64)        576       \n_________________________________________________________________\nconv_dw_2_bn (BatchNormaliza (None, 32, 32, 64)        256       \n_________________________________________________________________\nconv_dw_2_relu (ReLU)        (None, 32, 32, 64)        0         \n_________________________________________________________________\nconv_pw_2 (Conv2D)           (None, 32, 32, 128)       8192      \n_________________________________________________________________\nconv_pw_2_bn (BatchNormaliza (None, 32, 32, 128)       512       \n_________________________________________________________________\nconv_pw_2_relu (ReLU)        (None, 32, 32, 128)       0         \n_________________________________________________________________\nconv_dw_3 (DepthwiseConv2D)  (None, 32, 32, 128)       1152      \n_________________________________________________________________\nconv_dw_3_bn (BatchNormaliza (None, 32, 32, 128)       512       \n_________________________________________________________________\nconv_dw_3_relu (ReLU)        (None, 32, 32, 128)       0         \n_________________________________________________________________\nconv_pw_3 (Conv2D)           (None, 32, 32, 128)       16384     \n_________________________________________________________________\nconv_pw_3_bn (BatchNormaliza (None, 32, 32, 128)       512       \n_________________________________________________________________\nconv_pw_3_relu (ReLU)        (None, 32, 32, 128)       0         \n_________________________________________________________________\nconv_pad_4 (ZeroPadding2D)   (None, 33, 33, 128)       0         \n_________________________________________________________________\nconv_dw_4 (DepthwiseConv2D)  (None, 16, 16, 128)       1152      \n_________________________________________________________________\nconv_dw_4_bn (BatchNormaliza (None, 16, 16, 128)       512       \n_________________________________________________________________\nconv_dw_4_relu (ReLU)        (None, 16, 16, 128)       0         \n_________________________________________________________________\nconv_pw_4 (Conv2D)           (None, 16, 16, 256)       32768     \n_________________________________________________________________\nconv_pw_4_bn (BatchNormaliza (None, 16, 16, 256)       1024      \n_________________________________________________________________\nconv_pw_4_relu (ReLU)        (None, 16, 16, 256)       0         \n_________________________________________________________________\nconv_dw_5 (DepthwiseConv2D)  (None, 16, 16, 256)       2304      \n_________________________________________________________________\nconv_dw_5_bn (BatchNormaliza (None, 16, 16, 256)       1024      \n_________________________________________________________________\nconv_dw_5_relu (ReLU)        (None, 16, 16, 256)       0         \n_________________________________________________________________\nconv_pw_5 (Conv2D)           (None, 16, 16, 256)       65536     \n_________________________________________________________________\nconv_pw_5_bn (BatchNormaliza (None, 16, 16, 256)       1024      \n_________________________________________________________________\nconv_pw_5_relu (ReLU)        (None, 16, 16, 256)       0         \n_________________________________________________________________\nconv_pad_6 (ZeroPadding2D)   (None, 17, 17, 256)       0         \n_________________________________________________________________\nconv_dw_6 (DepthwiseConv2D)  (None, 8, 8, 256)         2304      \n_________________________________________________________________\nconv_dw_6_bn (BatchNormaliza (None, 8, 8, 256)         1024      \n_________________________________________________________________\nconv_dw_6_relu (ReLU)        (None, 8, 8, 256)         0         \n_________________________________________________________________\nconv_pw_6 (Conv2D)           (None, 8, 8, 512)         131072    \n_________________________________________________________________\nconv_pw_6_bn (BatchNormaliza (None, 8, 8, 512)         2048      \n_________________________________________________________________\nconv_pw_6_relu (ReLU)        (None, 8, 8, 512)         0         \n_________________________________________________________________\nconv_dw_7 (DepthwiseConv2D)  (None, 8, 8, 512)         4608      \n_________________________________________________________________\nconv_dw_7_bn (BatchNormaliza (None, 8, 8, 512)         2048      \n_________________________________________________________________\nconv_dw_7_relu (ReLU)        (None, 8, 8, 512)         0         \n_________________________________________________________________\nconv_pw_7 (Conv2D)           (None, 8, 8, 512)         262144    \n_________________________________________________________________\nconv_pw_7_bn (BatchNormaliza (None, 8, 8, 512)         2048      \n_________________________________________________________________\nconv_pw_7_relu (ReLU)        (None, 8, 8, 512)         0         \n_________________________________________________________________\nconv_dw_8 (DepthwiseConv2D)  (None, 8, 8, 512)         4608      \n_________________________________________________________________\nconv_dw_8_bn (BatchNormaliza (None, 8, 8, 512)         2048      \n_________________________________________________________________\nconv_dw_8_relu (ReLU)        (None, 8, 8, 512)         0         \n_________________________________________________________________\nconv_pw_8 (Conv2D)           (None, 8, 8, 512)         262144    \n_________________________________________________________________\nconv_pw_8_bn (BatchNormaliza (None, 8, 8, 512)         2048      \n_________________________________________________________________\nconv_pw_8_relu (ReLU)        (None, 8, 8, 512)         0         \n_________________________________________________________________\nconv_dw_9 (DepthwiseConv2D)  (None, 8, 8, 512)         4608      \n_________________________________________________________________\nconv_dw_9_bn (BatchNormaliza (None, 8, 8, 512)         2048      \n_________________________________________________________________\nconv_dw_9_relu (ReLU)        (None, 8, 8, 512)         0         \n_________________________________________________________________\nconv_pw_9 (Conv2D)           (None, 8, 8, 512)         262144    \n_________________________________________________________________\nconv_pw_9_bn (BatchNormaliza (None, 8, 8, 512)         2048      \n_________________________________________________________________\nconv_pw_9_relu (ReLU)        (None, 8, 8, 512)         0         \n_________________________________________________________________\nconv_dw_10 (DepthwiseConv2D) (None, 8, 8, 512)         4608      \n_________________________________________________________________\nconv_dw_10_bn (BatchNormaliz (None, 8, 8, 512)         2048      \n_________________________________________________________________\nconv_dw_10_relu (ReLU)       (None, 8, 8, 512)         0         \n_________________________________________________________________\nconv_pw_10 (Conv2D)          (None, 8, 8, 512)         262144    \n_________________________________________________________________\nconv_pw_10_bn (BatchNormaliz (None, 8, 8, 512)         2048      \n_________________________________________________________________\nconv_pw_10_relu (ReLU)       (None, 8, 8, 512)         0         \n_________________________________________________________________\nconv_dw_11 (DepthwiseConv2D) (None, 8, 8, 512)         4608      \n_________________________________________________________________\nconv_dw_11_bn (BatchNormaliz (None, 8, 8, 512)         2048      \n_________________________________________________________________\nconv_dw_11_relu (ReLU)       (None, 8, 8, 512)         0         \n_________________________________________________________________\nconv_pw_11 (Conv2D)          (None, 8, 8, 512)         262144    \n_________________________________________________________________\nconv_pw_11_bn (BatchNormaliz (None, 8, 8, 512)         2048      \n_________________________________________________________________\nconv_pw_11_relu (ReLU)       (None, 8, 8, 512)         0         \n_________________________________________________________________\nconv_pad_12 (ZeroPadding2D)  (None, 9, 9, 512)         0         \n_________________________________________________________________\nconv_dw_12 (DepthwiseConv2D) (None, 4, 4, 512)         4608      \n_________________________________________________________________\nconv_dw_12_bn (BatchNormaliz (None, 4, 4, 512)         2048      \n_________________________________________________________________\nconv_dw_12_relu (ReLU)       (None, 4, 4, 512)         0         \n_________________________________________________________________\nconv_pw_12 (Conv2D)          (None, 4, 4, 1024)        524288    \n_________________________________________________________________\nconv_pw_12_bn (BatchNormaliz (None, 4, 4, 1024)        4096      \n_________________________________________________________________\nconv_pw_12_relu (ReLU)       (None, 4, 4, 1024)        0         \n_________________________________________________________________\nconv_dw_13 (DepthwiseConv2D) (None, 4, 4, 1024)        9216      \n_________________________________________________________________\nconv_dw_13_bn (BatchNormaliz (None, 4, 4, 1024)        4096      \n_________________________________________________________________\nconv_dw_13_relu (ReLU)       (None, 4, 4, 1024)        0         \n_________________________________________________________________\nconv_pw_13 (Conv2D)          (None, 4, 4, 1024)        1048576   \n_________________________________________________________________\nconv_pw_13_bn (BatchNormaliz (None, 4, 4, 1024)        4096      \n_________________________________________________________________\nconv_pw_13_relu (ReLU)       (None, 4, 4, 1024)        0         \n_________________________________________________________________\nglobal_average_pooling2d_1 ( (None, 1024)              0         \n_________________________________________________________________\ndense_1 (Dense)              (None, 1024)              1049600   \n_________________________________________________________________\ndense_2 (Dense)              (None, 1024)              1049600   \n_________________________________________________________________\ndense_3 (Dense)              (None, 2)                 2050      \n=================================================================\nTotal params: 5,330,114\nTrainable params: 5,308,226\nNon-trainable params: 21,888\n_________________________________________________________________\n"
    }
   ],
   "source": [
    "model.summary()"
   ]
  },
  {
   "cell_type": "code",
   "execution_count": 14,
   "metadata": {},
   "outputs": [
    {
     "data": {
      "text/plain": "91"
     },
     "execution_count": 14,
     "metadata": {},
     "output_type": "execute_result"
    }
   ],
   "source": [
    "len(model.layers)"
   ]
  },
  {
   "cell_type": "code",
   "execution_count": 15,
   "metadata": {},
   "outputs": [],
   "source": [
    "#Make the first 85 layers non-trainable and the rest trainable\n",
    "for layer in model.layers[:85]:\n",
    "    layer.trainable=False\n",
    "for layer in model.layers[85:]:\n",
    "    layer.trainable=True"
   ]
  },
  {
   "cell_type": "markdown",
   "execution_count": null,
   "metadata": {},
   "outputs": [],
   "source": [
    "ImageDataGenerators are inbuilt in keras and help us to train our model. We just have to specify the path to our training data and it automatically sends the data for training, in batches. It makes the code much simpler."
   ]
  },
  {
   "cell_type": "code",
   "execution_count": null,
   "metadata": {},
   "outputs": [],
   "source": [
    "'''train_datagen=ImageDataGenerator(preprocessing_function=preprocess_input) #included in our dependencies\n",
    "\n",
    "train_generator=train_datagen.flow_from_directory('path-to-the-main-data-folder',\n",
    "                                                 target_size=(224,224),\n",
    "                                                 color_mode='rgb',\n",
    "                                                 batch_size=32,\n",
    "                                                 class_mode='categorical',\n",
    "                                                 shuffle=True)'''"
   ]
  },
  {
   "cell_type": "code",
   "execution_count": 16,
   "metadata": {},
   "outputs": [],
   "source": [
    "model.compile(optimizer='adam', \n",
    "              loss='sparse_categorical_crossentropy', \n",
    "              metrics=['accuracy' ])"
   ]
  },
  {
   "cell_type": "code",
   "execution_count": 17,
   "metadata": {},
   "outputs": [
    {
     "name": "stdout",
     "output_type": "stream",
     "text": "Epoch 1/3\n375/375 [==============================] - 11s 29ms/step - loss: 1.9177 - accuracy: 0.5867\nEpoch 2/3\n375/375 [==============================] - 9s 24ms/step - loss: 0.2831 - accuracy: 0.8853\nEpoch 3/3\n375/375 [==============================] - 9s 24ms/step - loss: 0.1414 - accuracy: 0.9573\n"
    },
    {
     "data": {
      "text/plain": "<keras.callbacks.callbacks.History at 0x2848c6d1088>"
     },
     "execution_count": 17,
     "metadata": {},
     "output_type": "execute_result"
    }
   ],
   "source": [
    "model.fit(x=x_train, y=y_train, batch_size = 32, epochs = 3)\n",
    "\n"
   ]
  },
  {
   "cell_type": "code",
   "execution_count": 18,
   "metadata": {},
   "outputs": [
    {
     "name": "stdout",
     "output_type": "stream",
     "text": "83/83 [==============================] - 2s 27ms/step\n[0.3279098760650819, 0.8674699068069458]\n['loss', 'accuracy']\n"
    }
   ],
   "source": [
    "print(model.evaluate(x_test, y_test))\n",
    "print(model.metrics_names)"
   ]
  },
  {
   "cell_type": "code",
   "execution_count": 19,
   "metadata": {},
   "outputs": [],
   "source": [
    "model.save('stream2_classifier.h5')"
   ]
  },
  {
   "cell_type": "code",
   "execution_count": null,
   "metadata": {},
   "outputs": [],
   "source": []
  }
 ]
}